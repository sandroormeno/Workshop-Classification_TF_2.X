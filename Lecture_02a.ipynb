{
  "nbformat": 4,
  "nbformat_minor": 0,
  "metadata": {
    "colab": {
      "name": "Lecture_02a.ipynb",
      "provenance": [],
      "collapsed_sections": [],
      "authorship_tag": "ABX9TyOdpmRz1e5HY34aosZBGm99",
      "include_colab_link": true
    },
    "kernelspec": {
      "name": "python3",
      "display_name": "Python 3"
    },
    "accelerator": "GPU"
  },
  "cells": [
    {
      "cell_type": "markdown",
      "metadata": {
        "id": "view-in-github",
        "colab_type": "text"
      },
      "source": [
        "<a href=\"https://colab.research.google.com/github/sandroormeno/Workshop-Classification_TF_2.X/blob/master/Lecture_02a.ipynb\" target=\"_parent\"><img src=\"https://colab.research.google.com/assets/colab-badge.svg\" alt=\"Open In Colab\"/></a>"
      ]
    },
    {
      "cell_type": "code",
      "metadata": {
        "id": "nttKlfhOwRq9",
        "colab_type": "code",
        "outputId": "a210cee8-c9ca-4d1b-fabd-957758431559",
        "colab": {
          "base_uri": "https://localhost:8080/",
          "height": 122
        }
      },
      "source": [
        "from google.colab import drive\n",
        "drive.mount('/content/drive')"
      ],
      "execution_count": 1,
      "outputs": [
        {
          "output_type": "stream",
          "text": [
            "Go to this URL in a browser: https://accounts.google.com/o/oauth2/auth?client_id=947318989803-6bn6qk8qdgf4n4g3pfee6491hc0brc4i.apps.googleusercontent.com&redirect_uri=urn%3aietf%3awg%3aoauth%3a2.0%3aoob&response_type=code&scope=email%20https%3a%2f%2fwww.googleapis.com%2fauth%2fdocs.test%20https%3a%2f%2fwww.googleapis.com%2fauth%2fdrive%20https%3a%2f%2fwww.googleapis.com%2fauth%2fdrive.photos.readonly%20https%3a%2f%2fwww.googleapis.com%2fauth%2fpeopleapi.readonly\n",
            "\n",
            "Enter your authorization code:\n",
            "··········\n",
            "Mounted at /content/drive\n"
          ],
          "name": "stdout"
        }
      ]
    },
    {
      "cell_type": "code",
      "metadata": {
        "id": "9GqXmd77wepH",
        "colab_type": "code",
        "outputId": "2cd4fe54-dee2-4b8f-cb9b-b42c20e2f1d8",
        "colab": {
          "base_uri": "https://localhost:8080/",
          "height": 34
        }
      },
      "source": [
        "%cd \"/content/drive/My Drive/Colab Notebooks/workshop_tensorFlow\""
      ],
      "execution_count": 2,
      "outputs": [
        {
          "output_type": "stream",
          "text": [
            "/content/drive/My Drive/Colab Notebooks/workshop_tensorFlow\n"
          ],
          "name": "stdout"
        }
      ]
    },
    {
      "cell_type": "code",
      "metadata": {
        "id": "GQtIAmbZw0Ut",
        "colab_type": "code",
        "outputId": "1aaa182e-7ff0-42aa-dcbb-6fa366036c92",
        "colab": {
          "base_uri": "https://localhost:8080/",
          "height": 34
        }
      },
      "source": [
        "%tensorflow_version 2.x"
      ],
      "execution_count": 3,
      "outputs": [
        {
          "output_type": "stream",
          "text": [
            "TensorFlow 2.x selected.\n"
          ],
          "name": "stdout"
        }
      ]
    },
    {
      "cell_type": "code",
      "metadata": {
        "id": "KpeTf6-hw2Vr",
        "colab_type": "code",
        "outputId": "be1f38ce-276d-446b-b591-5863863e2608",
        "colab": {
          "base_uri": "https://localhost:8080/",
          "height": 34
        }
      },
      "source": [
        "from PIL import Image\n",
        "import numpy as np\n",
        "import os\n",
        "from random import shuffle\n",
        "from keras.preprocessing import image\n",
        "import matplotlib.pyplot as plt\n",
        "import progressbar\n",
        "from __future__ import absolute_import, division, print_function, unicode_literals\n",
        "import tensorflow as tf"
      ],
      "execution_count": 4,
      "outputs": [
        {
          "output_type": "stream",
          "text": [
            "Using TensorFlow backend.\n"
          ],
          "name": "stderr"
        }
      ]
    },
    {
      "cell_type": "code",
      "metadata": {
        "id": "gfn7W2U8w5Ek",
        "colab_type": "code",
        "colab": {}
      },
      "source": [
        "TRAIN_DIR = './train/'\n",
        "TEST_DIR = './test/'"
      ],
      "execution_count": 0,
      "outputs": []
    },
    {
      "cell_type": "code",
      "metadata": {
        "id": "g21Y6Rz4w7kD",
        "colab_type": "code",
        "outputId": "b2c88f0c-2e33-45f8-9712-485ac8f2e407",
        "colab": {
          "base_uri": "https://localhost:8080/",
          "height": 34
        }
      },
      "source": [
        "count = 0\n",
        "for folders in os.listdir(TRAIN_DIR):\n",
        "  path = os.path.join(TRAIN_DIR, folders)\n",
        "  # print(path)\n",
        "  for files in os.listdir(path):\n",
        "    count += 1\n",
        "    # print(files)\n",
        "print(count)"
      ],
      "execution_count": 6,
      "outputs": [
        {
          "output_type": "stream",
          "text": [
            "724\n"
          ],
          "name": "stdout"
        }
      ]
    },
    {
      "cell_type": "code",
      "metadata": {
        "id": "FVUG0uGSxvs9",
        "colab_type": "code",
        "outputId": "d82f4c67-0643-47bf-a266-588f3c2f43f1",
        "colab": {
          "base_uri": "https://localhost:8080/",
          "height": 85
        }
      },
      "source": [
        "def get_size_statistics(dir):\n",
        "    heights = []\n",
        "    widths = []\n",
        "    img_count = 0\n",
        "    for folders in os.listdir(dir):\n",
        "      path = os.path.join(dir, folders)\n",
        "      for files in os.listdir(path):\n",
        "        data = os.path.join(path, files) \n",
        "        img_count += 1        \n",
        "        data = np.array(Image.open(data))\n",
        "        heights.append(data.shape[0])\n",
        "        widths.append(data.shape[1])   \n",
        "\n",
        "    avg_height = sum(heights) / len(heights)\n",
        "    avg_width = sum(widths) / len(widths)\n",
        "    print()\n",
        "    print(\"Average Height: \" + str(avg_height))\n",
        "    print(\"Average Width: \" + str(avg_width))\n",
        "    print(\"Total data counted: \" + str(img_count))\n",
        "\n",
        "get_size_statistics(TRAIN_DIR)"
      ],
      "execution_count": 7,
      "outputs": [
        {
          "output_type": "stream",
          "text": [
            "\n",
            "Average Height: 189.27348066298342\n",
            "Average Width: 269.6878453038674\n",
            "Total data counted: 724\n"
          ],
          "name": "stdout"
        }
      ]
    },
    {
      "cell_type": "code",
      "metadata": {
        "id": "XwYl3daZzbFq",
        "colab_type": "code",
        "colab": {}
      },
      "source": [
        "def label_img(name):\n",
        "    word_label = name.split('-')[0]\n",
        "    if word_label == 'causa_rellena': return np.array([1, 0, 0])\n",
        "    elif word_label == 'ceviche' : return np.array([0, 1, 0])\n",
        "    elif word_label == 'pollo_a_la_brasa' : return np.array([0, 0, 1])"
      ],
      "execution_count": 0,
      "outputs": []
    },
    {
      "cell_type": "code",
      "metadata": {
        "id": "DuS0Z7p0zdTP",
        "colab_type": "code",
        "colab": {}
      },
      "source": [
        "IMG_SIZE = 224"
      ],
      "execution_count": 0,
      "outputs": []
    },
    {
      "cell_type": "code",
      "metadata": {
        "id": "_8VxmvUJzgV_",
        "colab_type": "code",
        "colab": {}
      },
      "source": [
        "def load_data(dir, total):\n",
        "  progressbar.streams.flush()\n",
        "  bar = progressbar.ProgressBar(max_value=total)\n",
        "  train_data = []\n",
        "  c = 0\n",
        "  for folders in os.listdir(dir):   \n",
        "    path = os.path.join(dir, folders)\n",
        "    for files in os.listdir(path):\n",
        "      label = label_img(folders)\n",
        "      data = os.path.join(path, files)               \n",
        "      img = Image.open(data)\n",
        "      img = img.resize((IMG_SIZE, IMG_SIZE), Image.ANTIALIAS)\n",
        "      img = image.img_to_array(img)\n",
        "      #img = img/255 #normalizatiuon\n",
        "      train_data.append([img, label]) \n",
        "      bar.update(c) \n",
        "      c += 1         \n",
        "    shuffle(train_data)\n",
        "  return train_data"
      ],
      "execution_count": 0,
      "outputs": []
    },
    {
      "cell_type": "code",
      "metadata": {
        "id": "AFZ0I0lQzimf",
        "colab_type": "code",
        "outputId": "bde4bad9-9a72-4adb-e4b3-e6e86f7ab4ad",
        "colab": {
          "base_uri": "https://localhost:8080/",
          "height": 34
        }
      },
      "source": [
        "train_data = load_data(TRAIN_DIR, count)"
      ],
      "execution_count": 11,
      "outputs": [
        {
          "output_type": "stream",
          "text": [
            " 98% (715 of 724) |##################### | Elapsed Time: 0:00:02 ETA:   0:00:00"
          ],
          "name": "stderr"
        }
      ]
    },
    {
      "cell_type": "code",
      "metadata": {
        "id": "9-ccWJiq2ITs",
        "colab_type": "code",
        "colab": {}
      },
      "source": [
        "trainImages = np.array([i[0] for i in train_data]).reshape(-1, IMG_SIZE, IMG_SIZE, 3)\n",
        "trainLabels = np.array([i[1] for i in train_data])"
      ],
      "execution_count": 0,
      "outputs": []
    },
    {
      "cell_type": "code",
      "metadata": {
        "id": "DAlGlkOq2MSq",
        "colab_type": "code",
        "colab": {}
      },
      "source": [
        "tf.keras.backend.clear_session()"
      ],
      "execution_count": 0,
      "outputs": []
    },
    {
      "cell_type": "code",
      "metadata": {
        "id": "43wFHtri2P16",
        "colab_type": "code",
        "colab": {}
      },
      "source": [
        "model = tf.keras.Sequential()\n",
        "model.add(tf.keras.layers.Conv2D(32, kernel_size = (3, 3), activation='relu', input_shape=(IMG_SIZE, IMG_SIZE, 3)))\n",
        "#model.add(tf.keras.layers.MaxPooling2D(pool_size=(2,2)))\n",
        "#model.add(tf.keras.layers.BatchNormalization())\n",
        "model.add(tf.keras.layers.Conv2D(64, kernel_size=(3,3), activation='relu'))\n",
        "#model.add(tf.keras.layers.MaxPooling2D(pool_size=(2,2)))\n",
        "#model.add(tf.keras.layers.BatchNormalization())\n",
        "model.add(tf.keras.layers.Conv2D(96, kernel_size=(3,3), activation='relu'))\n",
        "#model.add(tf.keras.layers.MaxPooling2D(pool_size=(2,2)))\n",
        "#model.add(tf.keras.layers.BatchNormalization())\n",
        "model.add(tf.keras.layers.Conv2D(96, kernel_size=(3,3), activation='relu'))\n",
        "#model.add(tf.keras.layers.MaxPooling2D(pool_size=(2,2)))\n",
        "#model.add(tf.keras.layers.BatchNormalization())\n",
        "model.add(tf.keras.layers.Conv2D(64, kernel_size=(3,3), activation='relu'))\n",
        "#model.add(tf.keras.layers.MaxPooling2D(pool_size=(2,2)))\n",
        "#model.add(tf.keras.layers.BatchNormalization())\n",
        "#model.add(tf.keras.layers.Dropout(0.2))\n",
        "model.add(tf.keras.layers.Conv2D(32, kernel_size=(3,3), activation='relu'))\n",
        "#model.add(tf.keras.layers.MaxPooling2D(pool_size=(2,2)))\n",
        "#model.add(tf.keras.layers.BatchNormalization())\n",
        "#model.add(tf.keras.layers.Dropout(0.2))\n",
        "model.add(tf.keras.layers.Flatten())\n",
        "model.add(tf.keras.layers.Dense(256, activation='relu'))\n",
        "#model.add(tf.keras.layers.Dropout(0.2))\n",
        "model.add(tf.keras.layers.Dense(128, activation='relu'))\n",
        "#model.add(tf.keras.layers.Dropout(0.3))\n",
        "model.add(tf.keras.layers.Dense(3, activation = 'softmax'))"
      ],
      "execution_count": 0,
      "outputs": []
    },
    {
      "cell_type": "code",
      "metadata": {
        "id": "Fv1Afgqj2f0K",
        "colab_type": "code",
        "colab": {
          "base_uri": "https://localhost:8080/",
          "height": 493
        },
        "outputId": "26a67715-1ff8-413d-ae3c-52b81a70b949"
      },
      "source": [
        "model.summary()"
      ],
      "execution_count": 15,
      "outputs": [
        {
          "output_type": "stream",
          "text": [
            "Model: \"sequential\"\n",
            "_________________________________________________________________\n",
            "Layer (type)                 Output Shape              Param #   \n",
            "=================================================================\n",
            "conv2d (Conv2D)              (None, 222, 222, 32)      896       \n",
            "_________________________________________________________________\n",
            "conv2d_1 (Conv2D)            (None, 220, 220, 64)      18496     \n",
            "_________________________________________________________________\n",
            "conv2d_2 (Conv2D)            (None, 218, 218, 96)      55392     \n",
            "_________________________________________________________________\n",
            "conv2d_3 (Conv2D)            (None, 216, 216, 96)      83040     \n",
            "_________________________________________________________________\n",
            "conv2d_4 (Conv2D)            (None, 214, 214, 64)      55360     \n",
            "_________________________________________________________________\n",
            "conv2d_5 (Conv2D)            (None, 212, 212, 32)      18464     \n",
            "_________________________________________________________________\n",
            "flatten (Flatten)            (None, 1438208)           0         \n",
            "_________________________________________________________________\n",
            "dense (Dense)                (None, 256)               368181504 \n",
            "_________________________________________________________________\n",
            "dense_1 (Dense)              (None, 128)               32896     \n",
            "_________________________________________________________________\n",
            "dense_2 (Dense)              (None, 3)                 387       \n",
            "=================================================================\n",
            "Total params: 368,446,435\n",
            "Trainable params: 368,446,435\n",
            "Non-trainable params: 0\n",
            "_________________________________________________________________\n"
          ],
          "name": "stdout"
        }
      ]
    },
    {
      "cell_type": "code",
      "metadata": {
        "id": "PVj2TKt62i8z",
        "colab_type": "code",
        "colab": {}
      },
      "source": [
        "model.compile(loss='binary_crossentropy', optimizer='adam', metrics = ['accuracy'])"
      ],
      "execution_count": 0,
      "outputs": []
    },
    {
      "cell_type": "code",
      "metadata": {
        "id": "VvcvieRR2lbJ",
        "colab_type": "code",
        "colab": {
          "base_uri": "https://localhost:8080/",
          "height": 221
        },
        "outputId": "5800eee7-49c5-409b-edb7-40a9390d6255"
      },
      "source": [
        "model.fit(trainImages, trainLabels, batch_size = 50, epochs = 5, verbose = 1)"
      ],
      "execution_count": 17,
      "outputs": [
        {
          "output_type": "stream",
          "text": [
            "Train on 724 samples\n",
            "Epoch 1/5\n",
            "724/724 [==============================] - 35s 49ms/sample - loss: 6.9431 - accuracy: 0.5258\n",
            "Epoch 2/5\n",
            "724/724 [==============================] - 13s 18ms/sample - loss: 7.4143 - accuracy: 0.5166\n",
            "Epoch 3/5\n",
            "724/724 [==============================] - 13s 19ms/sample - loss: 7.4143 - accuracy: 0.5166\n",
            "Epoch 4/5\n",
            "724/724 [==============================] - 14s 19ms/sample - loss: 7.4143 - accuracy: 0.5166\n",
            "Epoch 5/5\n",
            "724/724 [==============================] - 14s 19ms/sample - loss: 7.4143 - accuracy: 0.5166\n"
          ],
          "name": "stdout"
        },
        {
          "output_type": "execute_result",
          "data": {
            "text/plain": [
              "<tensorflow.python.keras.callbacks.History at 0x7f4c10652a90>"
            ]
          },
          "metadata": {
            "tags": []
          },
          "execution_count": 17
        }
      ]
    }
  ]
}